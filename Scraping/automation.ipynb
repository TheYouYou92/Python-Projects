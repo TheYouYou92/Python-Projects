{
 "cells": [
  {
   "cell_type": "code",
   "execution_count": 11,
   "metadata": {},
   "outputs": [],
   "source": [
    "# Import the required modules\n",
    "import requests\n",
    "from bs4 import BeautifulSoup\n",
    "from selenium import webdriver\n",
    "from selenium.webdriver.common.keys import Keys\n",
    "from selenium.webdriver.support.ui import WebDriverWait\n",
    "from selenium.webdriver.support import expected_conditions as EC\n",
    "from selenium.webdriver.common.by import By\n",
    "\n",
    "# Define the keyword and the contact information\n",
    "keyword = \"automation+inurl:contact-us\"\n",
    "name = \"Your Name\"\n",
    "email = \"your.email@example.com\"\n",
    "website = \"https://your.website.com\"\n",
    "message = \"Hello, I am interested in your automation app in Python. Please contact me for more details.\"\n",
    "\n",
    "\n"
   ]
  },
  {
   "cell_type": "code",
   "execution_count": 14,
   "metadata": {},
   "outputs": [],
   "source": [
    "# Create a webdriver object\n",
    "driver = webdriver.Chrome()\n",
    "# Go to Google and enter the keyword\n",
    "driver.get(f\"https://www.google.com/search?q={keyword}\")\n",
    "\n",
    "\n",
    "\n",
    "driver,\n",
    "# Get the links of the results\n",
    "results = driver.find_elements(By.XPATH,\"\"\"//*[@id=\"arc-srp_110\"]/div/div\"\"\")\n",
    "links = [result.get_attribute(\"href\") for result in results]\n"
   ]
  },
  {
   "cell_type": "code",
   "execution_count": 36,
   "metadata": {},
   "outputs": [
    {
     "ename": "ElementClickInterceptedException",
     "evalue": "Message: element click intercepted: Element is not clickable at point (606, 635)\n  (Session info: chrome=120.0.6099.225)\nStacktrace:\n\tGetHandleVerifier [0x00007FF6CED92142+3514994]\n\t(No symbol) [0x00007FF6CE9B0CE2]\n\t(No symbol) [0x00007FF6CE8576AA]\n\t(No symbol) [0x00007FF6CE8A88F3]\n\t(No symbol) [0x00007FF6CE8A68ED]\n\t(No symbol) [0x00007FF6CE8A40EC]\n\t(No symbol) [0x00007FF6CE8A2EA5]\n\t(No symbol) [0x00007FF6CE896A0F]\n\t(No symbol) [0x00007FF6CE8C5FEA]\n\t(No symbol) [0x00007FF6CE8963B6]\n\t(No symbol) [0x00007FF6CE8C6490]\n\t(No symbol) [0x00007FF6CE8E28F6]\n\t(No symbol) [0x00007FF6CE8C5D93]\n\t(No symbol) [0x00007FF6CE894BDC]\n\t(No symbol) [0x00007FF6CE895C64]\n\tGetHandleVerifier [0x00007FF6CEDBE16B+3695259]\n\tGetHandleVerifier [0x00007FF6CEE16737+4057191]\n\tGetHandleVerifier [0x00007FF6CEE0E4E3+4023827]\n\tGetHandleVerifier [0x00007FF6CEAE04F9+689705]\n\t(No symbol) [0x00007FF6CE9BC048]\n\t(No symbol) [0x00007FF6CE9B8044]\n\t(No symbol) [0x00007FF6CE9B81C9]\n\t(No symbol) [0x00007FF6CE9A88C4]\n\tBaseThreadInitThunk [0x00007FFA63D9257D+29]\n\tRtlUserThreadStart [0x00007FFA6484AA58+40]\n",
     "output_type": "error",
     "traceback": [
      "\u001b[1;31m---------------------------------------------------------------------------\u001b[0m",
      "\u001b[1;31mElementClickInterceptedException\u001b[0m          Traceback (most recent call last)",
      "Cell \u001b[1;32mIn[36], line 20\u001b[0m\n\u001b[0;32m     17\u001b[0m \u001b[38;5;66;03m# If a contact us link is found, go to it and fill the form\u001b[39;00m\n\u001b[0;32m     18\u001b[0m \u001b[38;5;28;01mif\u001b[39;00m contact_link:\n\u001b[0;32m     19\u001b[0m     \u001b[38;5;66;03m# Go to the contact us page\u001b[39;00m\n\u001b[1;32m---> 20\u001b[0m     contact_link\u001b[38;5;241m.\u001b[39mclick()\n\u001b[0;32m     22\u001b[0m     \u001b[38;5;66;03m# Wait for the form to load\u001b[39;00m\n\u001b[0;32m     23\u001b[0m \n\u001b[0;32m     24\u001b[0m     \u001b[38;5;66;03m# Find the input fields\u001b[39;00m\n\u001b[0;32m     25\u001b[0m     name_field \u001b[38;5;241m=\u001b[39m driver\u001b[38;5;241m.\u001b[39mfind_element(By\u001b[38;5;241m.\u001b[39mNAME,\u001b[38;5;124m\"\u001b[39m\u001b[38;5;124mname\u001b[39m\u001b[38;5;124m\"\u001b[39m)\n",
      "File \u001b[1;32mc:\\Users\\youyo\\miniconda3\\envs\\my-env\\Lib\\site-packages\\selenium\\webdriver\\remote\\webelement.py:93\u001b[0m, in \u001b[0;36mWebElement.click\u001b[1;34m(self)\u001b[0m\n\u001b[0;32m     91\u001b[0m \u001b[38;5;28;01mdef\u001b[39;00m \u001b[38;5;21mclick\u001b[39m(\u001b[38;5;28mself\u001b[39m) \u001b[38;5;241m-\u001b[39m\u001b[38;5;241m>\u001b[39m \u001b[38;5;28;01mNone\u001b[39;00m:\n\u001b[0;32m     92\u001b[0m \u001b[38;5;250m    \u001b[39m\u001b[38;5;124;03m\"\"\"Clicks the element.\"\"\"\u001b[39;00m\n\u001b[1;32m---> 93\u001b[0m     \u001b[38;5;28mself\u001b[39m\u001b[38;5;241m.\u001b[39m_execute(Command\u001b[38;5;241m.\u001b[39mCLICK_ELEMENT)\n",
      "File \u001b[1;32mc:\\Users\\youyo\\miniconda3\\envs\\my-env\\Lib\\site-packages\\selenium\\webdriver\\remote\\webelement.py:394\u001b[0m, in \u001b[0;36mWebElement._execute\u001b[1;34m(self, command, params)\u001b[0m\n\u001b[0;32m    392\u001b[0m     params \u001b[38;5;241m=\u001b[39m {}\n\u001b[0;32m    393\u001b[0m params[\u001b[38;5;124m\"\u001b[39m\u001b[38;5;124mid\u001b[39m\u001b[38;5;124m\"\u001b[39m] \u001b[38;5;241m=\u001b[39m \u001b[38;5;28mself\u001b[39m\u001b[38;5;241m.\u001b[39m_id\n\u001b[1;32m--> 394\u001b[0m \u001b[38;5;28;01mreturn\u001b[39;00m \u001b[38;5;28mself\u001b[39m\u001b[38;5;241m.\u001b[39m_parent\u001b[38;5;241m.\u001b[39mexecute(command, params)\n",
      "File \u001b[1;32mc:\\Users\\youyo\\miniconda3\\envs\\my-env\\Lib\\site-packages\\selenium\\webdriver\\remote\\webdriver.py:344\u001b[0m, in \u001b[0;36mWebDriver.execute\u001b[1;34m(self, driver_command, params)\u001b[0m\n\u001b[0;32m    342\u001b[0m response \u001b[38;5;241m=\u001b[39m \u001b[38;5;28mself\u001b[39m\u001b[38;5;241m.\u001b[39mcommand_executor\u001b[38;5;241m.\u001b[39mexecute(driver_command, params)\n\u001b[0;32m    343\u001b[0m \u001b[38;5;28;01mif\u001b[39;00m response:\n\u001b[1;32m--> 344\u001b[0m     \u001b[38;5;28mself\u001b[39m\u001b[38;5;241m.\u001b[39merror_handler\u001b[38;5;241m.\u001b[39mcheck_response(response)\n\u001b[0;32m    345\u001b[0m     response[\u001b[38;5;124m\"\u001b[39m\u001b[38;5;124mvalue\u001b[39m\u001b[38;5;124m\"\u001b[39m] \u001b[38;5;241m=\u001b[39m \u001b[38;5;28mself\u001b[39m\u001b[38;5;241m.\u001b[39m_unwrap_value(response\u001b[38;5;241m.\u001b[39mget(\u001b[38;5;124m\"\u001b[39m\u001b[38;5;124mvalue\u001b[39m\u001b[38;5;124m\"\u001b[39m, \u001b[38;5;28;01mNone\u001b[39;00m))\n\u001b[0;32m    346\u001b[0m     \u001b[38;5;28;01mreturn\u001b[39;00m response\n",
      "File \u001b[1;32mc:\\Users\\youyo\\miniconda3\\envs\\my-env\\Lib\\site-packages\\selenium\\webdriver\\remote\\errorhandler.py:229\u001b[0m, in \u001b[0;36mErrorHandler.check_response\u001b[1;34m(self, response)\u001b[0m\n\u001b[0;32m    227\u001b[0m         alert_text \u001b[38;5;241m=\u001b[39m value[\u001b[38;5;124m\"\u001b[39m\u001b[38;5;124malert\u001b[39m\u001b[38;5;124m\"\u001b[39m]\u001b[38;5;241m.\u001b[39mget(\u001b[38;5;124m\"\u001b[39m\u001b[38;5;124mtext\u001b[39m\u001b[38;5;124m\"\u001b[39m)\n\u001b[0;32m    228\u001b[0m     \u001b[38;5;28;01mraise\u001b[39;00m exception_class(message, screen, stacktrace, alert_text)  \u001b[38;5;66;03m# type: ignore[call-arg]  # mypy is not smart enough here\u001b[39;00m\n\u001b[1;32m--> 229\u001b[0m \u001b[38;5;28;01mraise\u001b[39;00m exception_class(message, screen, stacktrace)\n",
      "\u001b[1;31mElementClickInterceptedException\u001b[0m: Message: element click intercepted: Element is not clickable at point (606, 635)\n  (Session info: chrome=120.0.6099.225)\nStacktrace:\n\tGetHandleVerifier [0x00007FF6CED92142+3514994]\n\t(No symbol) [0x00007FF6CE9B0CE2]\n\t(No symbol) [0x00007FF6CE8576AA]\n\t(No symbol) [0x00007FF6CE8A88F3]\n\t(No symbol) [0x00007FF6CE8A68ED]\n\t(No symbol) [0x00007FF6CE8A40EC]\n\t(No symbol) [0x00007FF6CE8A2EA5]\n\t(No symbol) [0x00007FF6CE896A0F]\n\t(No symbol) [0x00007FF6CE8C5FEA]\n\t(No symbol) [0x00007FF6CE8963B6]\n\t(No symbol) [0x00007FF6CE8C6490]\n\t(No symbol) [0x00007FF6CE8E28F6]\n\t(No symbol) [0x00007FF6CE8C5D93]\n\t(No symbol) [0x00007FF6CE894BDC]\n\t(No symbol) [0x00007FF6CE895C64]\n\tGetHandleVerifier [0x00007FF6CEDBE16B+3695259]\n\tGetHandleVerifier [0x00007FF6CEE16737+4057191]\n\tGetHandleVerifier [0x00007FF6CEE0E4E3+4023827]\n\tGetHandleVerifier [0x00007FF6CEAE04F9+689705]\n\t(No symbol) [0x00007FF6CE9BC048]\n\t(No symbol) [0x00007FF6CE9B8044]\n\t(No symbol) [0x00007FF6CE9B81C9]\n\t(No symbol) [0x00007FF6CE9A88C4]\n\tBaseThreadInitThunk [0x00007FFA63D9257D+29]\n\tRtlUserThreadStart [0x00007FFA6484AA58+40]\n"
     ]
    }
   ],
   "source": [
    "\n",
    "# Loop through the links and find the contact us page\n",
    "for link in links:\n",
    "    # Go to the link\n",
    "    driver.get(link)\n",
    "\n",
    "    # Try to find the contact us link\n",
    "    contact_link = None\n",
    "    try:\n",
    "        # Look for a link with \"contact\" in the text\n",
    "        contact_link = driver.find_element(By.PARTIAL_LINK_TEXT,\"contact\")\n",
    "    except:\n",
    "        # If not found, look for a link with \"contact\" in the href\n",
    "        contact_links = driver.find_elements(By.CSS_SELECTOR,\"a[href*='contact']\")\n",
    "        if contact_links:\n",
    "            contact_link = contact_links[0]\n",
    "\n",
    "    # If a contact us link is found, go to it and fill the form\n",
    "    if contact_link:\n",
    "        # Go to the contact us page\n",
    "        contact_link.click()\n",
    "\n",
    "        # Wait for the form to load\n",
    "\n",
    "        # Find the input fields\n",
    "        name_field = driver.find_element(By.NAME,\"name\")\n",
    "        email_field = driver.find_element(By.NAME,\"email\")\n",
    "        website_field = driver.find_element(By.NAME,\"website\")\n",
    "        message_field = driver.find_element(By.NAME,\"message\")\n",
    "        submit_button = driver.find_element(By.CSS_SELECTOR,\"input[type='submit']\")\n",
    "\n",
    "        # Fill the input fields\n",
    "        name_field.send_keys(name)\n",
    "        email_field.send_keys(email)\n",
    "        website_field.send_keys(website)\n",
    "        message_field.send_keys(message)\n",
    "\n",
    "        # Submit the form\n",
    "        submit_button.click()\n",
    "\n",
    "        # Wait for the confirmation message\n",
    "        wait.until(EC.presence_of_element_located((By.CLASS_NAME, \"success\")))\n",
    "\n",
    "        # Print the confirmation message\n",
    "        print(driver.find_element_by_class_name(\"success\").text)\n",
    "\n",
    "\n"
   ]
  },
  {
   "cell_type": "code",
   "execution_count": 19,
   "metadata": {},
   "outputs": [],
   "source": [
    "html = driver.page_source\n",
    "soup = BeautifulSoup(html, 'html.parser')"
   ]
  },
  {
   "cell_type": "code",
   "execution_count": 33,
   "metadata": {},
   "outputs": [],
   "source": [
    "results = soup.find_all('div',{'class':'MjjYud'})\n",
    "links = []"
   ]
  },
  {
   "cell_type": "code",
   "execution_count": 34,
   "metadata": {},
   "outputs": [],
   "source": [
    "for r in results:\n",
    "    try:\n",
    "        links.append(r.a['href'])\n",
    "    except:\n",
    "        pass"
   ]
  },
  {
   "cell_type": "code",
   "execution_count": 35,
   "metadata": {},
   "outputs": [
    {
     "data": {
      "text/plain": [
       "['https://www.automation.com/en-us/contact-us',\n",
       " 'https://www.automation-consultants.com/contact-us/',\n",
       " 'https://www.automationanywhere.com/contact-us',\n",
       " 'https://automation-supply.co.uk/contact-us/',\n",
       " 'https://automationexperts.co.uk/contact-us/',\n",
       " 'https://www.automatelocal.co.uk/contact-us/',\n",
       " 'https://www.rockwellautomation.com/en-us/company/about-us/contact-us.html',\n",
       " 'https://www.automationworld.com/contact-us',\n",
       " 'https://automata.tech/contact-us/',\n",
       " 'https://www.e-automation.co.uk/contact-us/',\n",
       " '/search?sca_esv=601011473&q=Automation+contact+us+phone+number&sa=X&ved=2ahUKEwjLv4GtxvWDAxV_QUEAHdrpC6AQ1QJ6BAgvEAE']"
      ]
     },
     "execution_count": 35,
     "metadata": {},
     "output_type": "execute_result"
    }
   ],
   "source": [
    "links"
   ]
  },
  {
   "cell_type": "code",
   "execution_count": null,
   "metadata": {},
   "outputs": [],
   "source": []
  }
 ],
 "metadata": {
  "kernelspec": {
   "display_name": "my-env",
   "language": "python",
   "name": "python3"
  },
  "language_info": {
   "codemirror_mode": {
    "name": "ipython",
    "version": 3
   },
   "file_extension": ".py",
   "mimetype": "text/x-python",
   "name": "python",
   "nbconvert_exporter": "python",
   "pygments_lexer": "ipython3",
   "version": "3.11.4"
  }
 },
 "nbformat": 4,
 "nbformat_minor": 2
}
